{
 "cells": [
  {
   "cell_type": "markdown",
   "metadata": {
    "id": "TBNPutpsFKBw"
   },
   "source": [
    "Author: Ka Wa Yip"
   ]
  },
  {
   "cell_type": "code",
   "execution_count": 4,
   "metadata": {
    "colab": {
     "base_uri": "https://localhost:8080/",
     "height": 35
    },
    "id": "MRWYJWkeSPbV",
    "outputId": "078c9bd0-1b2e-4403-e834-1dd9dcec03d6"
   },
   "outputs": [],
   "source": [
    "import itertools"
   ]
  },
  {
   "cell_type": "code",
   "execution_count": 5,
   "metadata": {
    "colab": {
     "base_uri": "https://localhost:8080/"
    },
    "id": "j1AmgiXCTpb-",
    "outputId": "f8551755-40c8-4ff3-ed56-9a5badbe16d1"
   },
   "outputs": [
    {
     "name": "stdout",
     "output_type": "stream",
     "text": [
      "['4\\n', '\\n', '1 0 1 1 1\\n', '1 1 1 1 1\\n', '1 1 1 1 1\\n', '1 0 1 1 1\\n', '\\n', '1 1 1 0 1\\n', '1 1 1 1 1\\n', '1 1 1 1 1\\n', '1 1 1 0 1\\n']\n"
     ]
    }
   ],
   "source": [
    "with open('sample_input.txt') as f:\n",
    "    lines = f.readlines()\n",
    "    print(lines)"
   ]
  },
  {
   "cell_type": "code",
   "execution_count": 6,
   "metadata": {
    "colab": {
     "base_uri": "https://localhost:8080/"
    },
    "id": "oAs-ykfT3x4G",
    "outputId": "50f0a3b2-2178-4ee4-e17f-4c2fdeb081db"
   },
   "outputs": [
    {
     "name": "stdout",
     "output_type": "stream",
     "text": [
      "[[1, 0, 1, 1, 1], [1, 1, 1, 1, 1], [1, 1, 1, 1, 1], [1, 0, 1, 1, 1]]\n",
      "[[1, 1, 1, 1], [1, 1, 1, 1], [1, 1, 1, 1], [0, 1, 1, 0], [1, 1, 1, 1]]\n"
     ]
    }
   ],
   "source": [
    "# Let's make two lists: h_list has dimension (n+1)x(n) and v_list has dimension (n)x(n+1), so both are counting matchsticks from top-left to bottom-right.\n",
    "f = open('sample_input.txt', 'r')\n",
    "content = f.read().splitlines()\n",
    "size = int(content[0])\n",
    "v_list = []\n",
    "h_list = []\n",
    "for v in range(2, size+2):\n",
    "    #temp = list(content[h].split(\" \"))\n",
    "    v_list.append([int(i) for i in list(content[v].split(\" \"))])\n",
    "    \n",
    "print(v_list)\n",
    "for h in range(size+3, 2*size+3):\n",
    "    #temp = list(content[v].split(\" \"))\n",
    "    h_list.append([int(i) for i in list(content[h].split(\" \"))])    \n",
    "\n",
    "h_list = list(map(list, itertools.zip_longest(*h_list, fillvalue=None)))\n",
    "print(h_list)\n"
   ]
  },
  {
   "cell_type": "code",
   "execution_count": 7,
   "metadata": {
    "colab": {
     "base_uri": "https://localhost:8080/"
    },
    "id": "v_H8HNYRD8LE",
    "outputId": "f6fb7280-a5bc-4de5-80c3-b5d18cfa5e1c"
   },
   "outputs": [
    {
     "name": "stdout",
     "output_type": "stream",
     "text": [
      "5\n",
      "4\n"
     ]
    }
   ],
   "source": [
    "M = len(v_list[0])   #v_list: N x M\n",
    "print(M)\n",
    "N = len(h_list[0])   #h_list: M x N\n",
    "print(N)\n",
    "cuV = [[0]*len(v_list[0]) for _ in range(0, len(v_list))]\n",
    "cuH = [[0]*len(h_list[0]) for _ in range(0, len(h_list))]"
   ]
  },
  {
   "cell_type": "code",
   "execution_count": 8,
   "metadata": {
    "colab": {
     "base_uri": "https://localhost:8080/"
    },
    "id": "fAN2N9Y4M-Ys",
    "outputId": "fef34cf0-4b12-4bc0-94fd-b02901f21a4e"
   },
   "outputs": [
    {
     "name": "stdout",
     "output_type": "stream",
     "text": [
      "[[1, 0, 1, 1, 1], [2, 1, 2, 2, 2], [3, 2, 3, 3, 3], [4, 0, 4, 4, 4]]\n"
     ]
    }
   ],
   "source": [
    "#cuV: N x M is to keep track of how many consecutive vertical bars it precedes.\n",
    "for j in range(0, M):\n",
    "  for i in range(0, N):\n",
    "    if v_list[i][j]:\n",
    "      if i == 0:\n",
    "        cuV[i][j] = 1\n",
    "      else:\n",
    "        cuV[i][j] = cuV[i - 1][j] + 1\n",
    "    else:\n",
    "      cuV[i][j] = 0\n",
    "\n",
    "print(cuV)"
   ]
  },
  {
   "cell_type": "code",
   "execution_count": 9,
   "metadata": {
    "colab": {
     "base_uri": "https://localhost:8080/"
    },
    "id": "HSDOF-dEQi9i",
    "outputId": "c065bd7d-c285-46ba-ee79-6d9be38861e7"
   },
   "outputs": [
    {
     "name": "stdout",
     "output_type": "stream",
     "text": [
      "[[1, 2, 3, 4], [1, 2, 3, 4], [1, 2, 3, 4], [0, 1, 2, 0], [1, 2, 3, 4]]\n"
     ]
    }
   ],
   "source": [
    "#cuH: M x N is to keep track of how many consecutive horizontal bars it precedes.\n",
    "for i in range(0, M):\n",
    "  for j in range(0, N):\n",
    "    if h_list[i][j]:\n",
    "      if j == 0:\n",
    "        cuH[i][j] = 1\n",
    "      else:\n",
    "        cuH[i][j] = cuH[i][j-1] + 1\n",
    "    else:\n",
    "      cuH[i][j] = 0\n",
    "\n",
    "print(cuH)"
   ]
  },
  {
   "cell_type": "code",
   "execution_count": 10,
   "metadata": {
    "id": "fIzeHxRqP4Re"
   },
   "outputs": [],
   "source": [
    "# Start from the bottom right corner of the grid. Let's see if we can form square of length `l` at every (i, j) point.\n",
    "# For the example of point (i = 2, j = 2):\n",
    "# From h point of view, it is (2, 1):\n",
    "#            *--------*----------*---------*--------*\n",
    "#            |                   |         |        |\n",
    "#            |                   |         |        |\n",
    "#            *--------*(i-1,j)-*---------*--------*\n",
    "#            |        |          |         |        |\n",
    "#            |        |          |         |        |\n",
    "#            *--------*----------*(i,j-1)----*--------*\n",
    "#            |        |          |         |        |\n",
    "#            |        |          |         |        |\n",
    "#            *        *----------*---------*        *\n",
    "#            |                   |         |        |\n",
    "#            |                   |         |        |\n",
    "#            *--------*----------*---------*--------*\n",
    "\n",
    "#\n",
    "#\n",
    "# From v point of view, it is (1, 2):\n",
    "#            *--------*----------*---------*--------*\n",
    "#            |                   |         |        |\n",
    "#            |                   |         |        |\n",
    "#            *--------*(i-2,j-1)---*---------*--------*\n",
    "#            |        |          |         |        |\n",
    "#            |        |          |         |        |\n",
    "#            *--------*----------*(i-1,j)*--------*\n",
    "#            |        |          |         |        |\n",
    "#            |        |          |         |        |\n",
    "#            *        *----------*---------*        *\n",
    "#            |                   |         |        |\n",
    "#            |                   |         |        |\n",
    "#            *--------*----------*---------*--------*\n",
    "#\n",
    "# For example, when we want to see if a square of length l can be formed at (i,j) point (from point of view of h). We want to see if:\n",
    "# dH(i-s,j-1) >= s, dV(i-1,j-s) >= s, dH(i,j-1) >= s, dV(i-1,j) >= s\n",
    "#\n",
    "# We want to start with i=(N-1),j=(M-1) point, and iterate until i=0,j=0. "
   ]
  },
  {
   "cell_type": "code",
   "execution_count": 11,
   "metadata": {
    "id": "RgZyLEQXSsew"
   },
   "outputs": [],
   "source": [
    "# number = 0\n",
    "# for i in range(0, M):\n",
    "#   for j in range(0, N):\n",
    "#       s = 0\n",
    "#       #cuH(i-1+s,j-1)>=s, cuV(i-1,j-1+s)>=s, cuH(i-1+s,j-1+s)>=1, cuV(i-1+s,j-1+s)>=s\n",
    "#       if cuH[i][s+j-1] >= s and cuH[i+s][s+j-1] >= s and cuV[i+s-1][j] >= s and cuV[i+s-1][s+j] >= s:\n",
    "#         number += 1\n",
    "#       if cuH[i][s+j-1] < s:\n",
    "#         break\n",
    "    \n",
    "# print(number)"
   ]
  },
  {
   "cell_type": "code",
   "execution_count": 12,
   "metadata": {
    "colab": {
     "base_uri": "https://localhost:8080/"
    },
    "id": "XwCUCnpHiyco",
    "outputId": "dfc6a1ef-de4e-4840-fd9f-310bf0c269af"
   },
   "outputs": [
    {
     "name": "stdout",
     "output_type": "stream",
     "text": [
      "Number of squares: 16\n",
      "['4 x 4: 1\\n', '3 x 3: 1\\n', '2 x 2: 5\\n', '1 x 1: 9\\n', 'Number of squares: 16']\n"
     ]
    }
   ],
   "source": [
    "outputlist = []\n",
    "total = 0\n",
    "for s in range(size, 0, -1):\n",
    "  count=0\n",
    "  for i in range((M-1), s-1, -1):\n",
    "    for j in range((M-1), s-1, -1):\n",
    "        condition = i-s>=0 and j-1>=0 and i-1>=0 and j-s >=0 and i >=0 and j-1>=0 and i-1 >= 0 and j >=0\n",
    "        try:\n",
    "            if condition and cuH[i-s][j-1]>=s and cuV[i-1][j-s]>=s and cuH[i][j-1]>=s and cuV[i-1][j]>=s: \n",
    "              count+=1 \n",
    "        except IndexError:\n",
    "            continue\n",
    "  string = str(s)+' x '+str(s) +\": \"+str(count)+ '\\n'\n",
    "  # print(string)\n",
    "  outputlist.append(string)\n",
    "  # print(count)\n",
    "  total += count\n",
    "conclusion = 'Number of squares: ' + str(total) \n",
    "outputlist.append(conclusion)\n",
    "print(conclusion)\n",
    "print(outputlist)"
   ]
  },
  {
   "cell_type": "code",
   "execution_count": 13,
   "metadata": {
    "id": "umc68_yl1MNW"
   },
   "outputs": [],
   "source": [
    "fout = open('output.txt', \"w\")\n",
    "for i in range(0, len(outputlist)):\n",
    "    fout.write(outputlist[i])\n"
   ]
  },
  {
   "cell_type": "code",
   "execution_count": 14,
   "metadata": {
    "colab": {
     "base_uri": "https://localhost:8080/"
    },
    "id": "SaspklEx5sG0",
    "outputId": "9ca7e20b-86ce-429c-9e49-8cf0b87b561e"
   },
   "outputs": [
    {
     "name": "stdout",
     "output_type": "stream",
     "text": [
      "[]\n"
     ]
    }
   ],
   "source": [
    "with open('output.txt') as f:\n",
    "    lines = f.readlines()\n",
    "    print(lines)"
   ]
  },
  {
   "cell_type": "code",
   "execution_count": 15,
   "metadata": {
    "colab": {
     "base_uri": "https://localhost:8080/"
    },
    "id": "UT_2WUMyzywG",
    "outputId": "67ffebb0-9976-4478-fd49-914cc6df0496"
   },
   "outputs": [
    {
     "name": "stdout",
     "output_type": "stream",
     "text": [
      "['4 x 4: 1\\n', '3 x 3: 1\\n', '2 x 2: 5\\n', '1 x 1: 9\\n', 'Number of squares: 16']\n"
     ]
    }
   ],
   "source": [
    "with open('sample_output.txt') as f:\n",
    "    lines = f.readlines()\n",
    "    print(lines)"
   ]
  }
 ],
 "metadata": {
  "colab": {
   "collapsed_sections": [],
   "name": "kawayip.ipynb",
   "provenance": []
  },
  "kernelspec": {
   "display_name": "Python 3",
   "language": "python",
   "name": "python3"
  },
  "language_info": {
   "codemirror_mode": {
    "name": "ipython",
    "version": 3
   },
   "file_extension": ".py",
   "mimetype": "text/x-python",
   "name": "python",
   "nbconvert_exporter": "python",
   "pygments_lexer": "ipython3",
   "version": "3.7.3"
  }
 },
 "nbformat": 4,
 "nbformat_minor": 1
}
